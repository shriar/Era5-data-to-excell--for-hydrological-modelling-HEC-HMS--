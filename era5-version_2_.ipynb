{
 "cells": [
  {
   "cell_type": "markdown",
   "metadata": {},
   "source": [
    "expver = 5 -> 1950 to 1978 and 2020 to present\n",
    "\n",
    "expver = 1 -> 1979 to 2019\n",
    "\n",
    "[Degree resulution to area](https://www.engr.scu.edu/~emaurer/tools/calc_cell_area_cgi.pl)\n",
    "\n",
    "for 23lat = $705km^2$\n",
    "\n",
    "[plot](https://dwikita-ichsana.medium.com/meteorology-101-how-to-download-and-plot-meteorological-data-from-era5-dcbf12553d6a)\n",
    "\n"
   ]
  },
  {
   "cell_type": "code",
   "execution_count": 1,
   "metadata": {},
   "outputs": [],
   "source": [
    "import xarray as xr\n",
    "from pprint import pprint\n",
    "import geopandas as gpd\n",
    "import numpy as np\n",
    "import matplotlib.pyplot as plt\n",
    "from shapely.geometry import Polygon\n",
    "import pandas as pd\n",
    "import cdsapi\n",
    "c = cdsapi.Client()"
   ]
  },
  {
   "cell_type": "code",
   "execution_count": 2,
   "metadata": {},
   "outputs": [
    {
     "data": {
      "text/plain": [
       "(array([89.42676891, 23.29497108]), array([90.22452602, 23.8742947 ]))"
      ]
     },
     "execution_count": 2,
     "metadata": {},
     "output_type": "execute_result"
    }
   ],
   "source": [
    "# finding the extend of a shape file\n",
    "gdf = gpd.read_file(r\"C:\\Users\\User\\Desktop\\New folder\\new_temp.shp\")\n",
    "extent = gdf.geometry.total_bounds\n",
    "right_down_corver, left_up_corner = extent[:2], extent[2:]\n",
    "right_down_corver, left_up_corner"
   ]
  },
  {
   "cell_type": "code",
   "execution_count": 3,
   "metadata": {},
   "outputs": [],
   "source": [
    "# c.retrieve(\n",
    "#     'reanalysis-era5-single-levels',\n",
    "#     {\n",
    "#         'product_type': 'reanalysis',\n",
    "#         'format': 'netcdf',\n",
    "#         'variable': [\n",
    "#             '2m_temperature', 'evaporation', 'total_precipitation',\n",
    "#         ],\n",
    "#         'year': [\n",
    "#             '2018', '2024',\n",
    "#         ],\n",
    "#         'month': [\n",
    "#             '01', '02', '03',\n",
    "#             '04', '05', '06',\n",
    "#             '07', '08', '09',\n",
    "#             '10', '11', '12',\n",
    "#         ],\n",
    "#         'day': [\n",
    "#             '01', '02', '03',\n",
    "#             '04', '05', '06',\n",
    "#             '07', '08', '09',\n",
    "#             '10', '11', '12',\n",
    "#             '13', '14', '15',\n",
    "#             '16', '17', '18',\n",
    "#             '19', '20', '21',\n",
    "#             '22', '23', '24',\n",
    "#             '25', '26', '27',\n",
    "#             '28', '29', '30',\n",
    "#             '31',\n",
    "#         ],\n",
    "#         'time': [\n",
    "#             '00:00', '01:00', '02:00',\n",
    "#             '03:00', '04:00', '05:00',\n",
    "#             '06:00', '07:00', '08:00',\n",
    "#             '09:00', '10:00', '11:00',\n",
    "#             '12:00', '13:00', '14:00',\n",
    "#             '15:00', '16:00', '17:00',\n",
    "#             '18:00', '19:00', '20:00',\n",
    "#             '21:00', '22:00', '23:00',\n",
    "#         ],\n",
    "#         'area': [\n",
    "#             left_up_corner[1], right_down_corver[0], right_down_corver[1],\n",
    "#             left_up_corner[0],\n",
    "#         ],\n",
    "#     },\n",
    "#     'era5.nc')"
   ]
  },
  {
   "cell_type": "code",
   "execution_count": 4,
   "metadata": {},
   "outputs": [
    {
     "data": {
      "text/plain": [
       "(23.874294700280778, 89.42676891371673, 23.29497108454659, 90.22452602390807)"
      ]
     },
     "execution_count": 4,
     "metadata": {},
     "output_type": "execute_result"
    }
   ],
   "source": [
    "left_up_corner[1], right_down_corver[0], right_down_corver[1],left_up_corner[0],"
   ]
  },
  {
   "cell_type": "code",
   "execution_count": 5,
   "metadata": {},
   "outputs": [],
   "source": [
    "# read the netcdf file\n",
    "ds2 = xr.open_dataset(\n",
    "    \"adaptor.mars.internal-1706449747.1128218-7520-9-fb699e35-c2d8-4407-9899-4f7f37246ab7.nc\",\n",
    "    # 'era5_tp',\n",
    "    decode_times=True,\n",
    ")"
   ]
  },
  {
   "cell_type": "code",
   "execution_count": 6,
   "metadata": {},
   "outputs": [
    {
     "data": {
      "text/plain": [
       "(5, 4)"
      ]
     },
     "execution_count": 6,
     "metadata": {},
     "output_type": "execute_result"
    }
   ],
   "source": [
    "longitudes = ds2[\"longitude\"].values\n",
    "len_long = len(longitudes)\n",
    "latitudes = ds2[\"latitude\"].values\n",
    "len_lat = len(latitudes)\n",
    "len_long, len_lat"
   ]
  },
  {
   "cell_type": "code",
   "execution_count": 7,
   "metadata": {},
   "outputs": [
    {
     "data": {
      "text/plain": [
       "(4, 5, 2)"
      ]
     },
     "execution_count": 7,
     "metadata": {},
     "output_type": "execute_result"
    }
   ],
   "source": [
    "points = []\n",
    "\n",
    "for lon in longitudes:\n",
    "    for lat in latitudes:\n",
    "        points.append((lon, lat))\n",
    "\n",
    "lat_long = np.array(points).reshape((len_lat, len_long, 2))\n",
    "lat_long.shape"
   ]
  },
  {
   "cell_type": "code",
   "execution_count": 8,
   "metadata": {},
   "outputs": [],
   "source": [
    "# extracting point from basin shape file\n",
    "gdf = gpd.read_file(r\"C:\\Users\\User\\Desktop\\New folder\\new_temp.shp\")\n",
    "geometries = gdf[\"geometry\"]\n",
    "\n",
    "coordinates = []\n",
    "for geometry in geometries:\n",
    "    for point in geometry.exterior.coords[:]:\n",
    "        coordinates.append(list(point))\n",
    "\n",
    "\n",
    "point_of_geometry = np.array(coordinates)"
   ]
  },
  {
   "cell_type": "code",
   "execution_count": 9,
   "metadata": {},
   "outputs": [
    {
     "data": {
      "text/plain": [
       "(4, 5, 4, 2)"
      ]
     },
     "execution_count": 9,
     "metadata": {},
     "output_type": "execute_result"
    }
   ],
   "source": [
    "# # finding the middle points\n",
    "# middle_longs = []\n",
    "# for i in range(len(longitudes) - 1):\n",
    "#     middle_long = (longitudes[i] + longitudes[i + 1]) / 2\n",
    "#     middle_longs.append(middle_long)\n",
    "\n",
    "# middle_lats = []\n",
    "# for i in range(len(latitudes) - 1):\n",
    "#     middle_lat = (latitudes[i] + latitudes[i + 1]) / 2\n",
    "#     middle_lats.append(middle_lat)\n",
    "\n",
    "# mid_points = []\n",
    "\n",
    "# for lat in middle_lats:\n",
    "#     for lon in middle_longs:\n",
    "#         mid_points.append((lon, lat))\n",
    "\n",
    "\n",
    "# creating rectangle among middle points\n",
    "# def create_rect(point, diff):\n",
    "#     return (\n",
    "#         point,\n",
    "#         [point[0], point[1] + diff],\n",
    "#         [point[0] + diff, point[1] + diff],\n",
    "#         [point[0] + diff, point[1]],\n",
    "#     )\n",
    "\n",
    "# creating rectangle around the data points\n",
    "def create_rect(point, diff):\n",
    "    return (\n",
    "        [point[0] - diff, point[1] + diff],\n",
    "        [point[0] + diff, point[1] + diff],\n",
    "        [point[0] + diff, point[1] - diff],\n",
    "        [point[0] - diff, point[1] - diff],\n",
    "    )\n",
    "\n",
    "\n",
    "rects = []\n",
    "for point in lat_long.reshape(-1, 2):\n",
    "    rects.append(list(create_rect(point, 0.25 / 2)))\n",
    "rects = np.array(rects)\n",
    "rects = rects.reshape(len_lat, len_long, 4, 2)\n",
    "rects.shape"
   ]
  },
  {
   "cell_type": "code",
   "execution_count": 10,
   "metadata": {},
   "outputs": [
    {
     "data": {
      "image/png": "[encoded data removed]",
      "text/plain": [
       "<Figure size 640x480 with 1 Axes>"
      ]
     },
     "metadata": {},
     "output_type": "display_data"
    }
   ],
   "source": [
    "# plotting of the data points\n",
    "x, y = lat_long[:, :, 0], lat_long[:, :, 1]\n",
    "plt.scatter(x, y)\n",
    "\n",
    "# plotting of the rectangles\n",
    "x, y = rects[:, :, :, 0], rects[:, :, :, 1]\n",
    "plt.scatter(x, y)\n",
    "\n",
    "# plotting of the sub-basins\n",
    "x_p, y_p = point_of_geometry[:, 0], point_of_geometry[:, 1]\n",
    "plt.plot(x_p, y_p)\n",
    "\n",
    "plt.show()"
   ]
  },
  {
   "cell_type": "code",
   "execution_count": 11,
   "metadata": {},
   "outputs": [],
   "source": [
    "def find_area_between_polygon(polygon1, polygon2):\n",
    "    intersection = polygon1.intersection(polygon2)\n",
    "    return intersection.area"
   ]
  },
  {
   "cell_type": "code",
   "execution_count": 12,
   "metadata": {},
   "outputs": [],
   "source": [
    "timestep = ds2['tp'].values.shape[0]\n",
    "datetime_series = pd.Series(ds2['time'][0:timestep])\n",
    "datetime_series = np.array(datetime_series, dtype=object)\n",
    "# datetime_series"
   ]
  },
  {
   "cell_type": "code",
   "execution_count": 13,
   "metadata": {},
   "outputs": [],
   "source": [
    "def extract_variable(var_name):\n",
    "    one_basin_var = np.zeros((timestep, 1))\n",
    "    all_basins_var = datetime_series.reshape((-1, 1))\n",
    "    var_matrix = ds2['tp'].values\n",
    "    removed_nan = var_matrix[~np.isnan(var_matrix)].reshape((timestep, len_lat, len_long)) # remove all the nan values and reduced the expver dimension\n",
    "    \n",
    "# find the var of all the sub-basins\n",
    "    for geometry in geometries:\n",
    "    # find the var of one sub-basin\n",
    "        for i in range(len_lat):\n",
    "            for j in range(len_long):\n",
    "                one_tp = removed_nan[:, i, j].reshape(-1, 1)\n",
    "\n",
    "                one_rect = Polygon(rects[i, j])\n",
    "                rectangle_area = one_rect.area\n",
    "\n",
    "                intersection_area = find_area_between_polygon(geometry, one_rect)\n",
    "\n",
    "                weighted_var = (intersection_area / rectangle_area) * one_tp\n",
    "\n",
    "                one_basin_var = np.concatenate(\n",
    "                (one_basin_var, weighted_var.reshape(-1, 1)), axis=1\n",
    "            )\n",
    "\n",
    "        one_basin_var = np.sum(one_basin_var, axis=1).reshape(-1, 1)  # summing for all the grid\n",
    "        all_basins_var = np.concatenate((all_basins_var, one_basin_var), axis=1) \n",
    "        one_basin_var = np.zeros((timestep, 1)) #resetting the initial values\n",
    "    return all_basins_var\n",
    "\n",
    "all_basins_tp = extract_variable('tp')"
   ]
  },
  {
   "cell_type": "code",
   "execution_count": 16,
   "metadata": {},
   "outputs": [
    {
     "data": {
      "text/plain": [
       "[<matplotlib.lines.Line2D at 0x1c5a3811820>]"
      ]
     },
     "execution_count": 16,
     "metadata": {},
     "output_type": "execute_result"
    },
    {
     "data": {
      "image/png": "[encoded data removed]",
      "text/plain": [
       "<Figure size 640x480 with 1 Axes>"
      ]
     },
     "metadata": {},
     "output_type": "display_data"
    }
   ],
   "source": [
    "# one_ = all_basins_tp[:, 1]\n",
    "plt.plot(all_basins_tp[:7000, 0], all_basins_tp[:7000, 1])"
   ]
  },
  {
   "cell_type": "code",
   "execution_count": 15,
   "metadata": {},
   "outputs": [
    {
     "data": {
      "text/html": [
       "<div>\n",
       "<style scoped>\n",
       "    .dataframe tbody tr th:only-of-type {\n",
       "        vertical-align: middle;\n",
       "    }\n",
       "\n",
       "    .dataframe tbody tr th {\n",
       "        vertical-align: top;\n",
       "    }\n",
       "\n",
       "    .dataframe thead th {\n",
       "        text-align: right;\n",
       "    }\n",
       "</style>\n",
       "<table border=\"1\" class=\"dataframe\">\n",
       "  <thead>\n",
       "    <tr style=\"text-align: right;\">\n",
       "      <th></th>\n",
       "      <th>Time</th>\n",
       "      <th>id 0</th>\n",
       "      <th>id 1</th>\n",
       "    </tr>\n",
       "  </thead>\n",
       "  <tbody>\n",
       "    <tr>\n",
       "      <th>0</th>\n",
       "      <td>2023-01-01 00:00:00</td>\n",
       "      <td>0.0</td>\n",
       "      <td>0.0</td>\n",
       "    </tr>\n",
       "    <tr>\n",
       "      <th>1</th>\n",
       "      <td>2023-01-01 01:00:00</td>\n",
       "      <td>0.0</td>\n",
       "      <td>0.0</td>\n",
       "    </tr>\n",
       "    <tr>\n",
       "      <th>2</th>\n",
       "      <td>2023-01-01 02:00:00</td>\n",
       "      <td>0.0</td>\n",
       "      <td>0.0</td>\n",
       "    </tr>\n",
       "    <tr>\n",
       "      <th>3</th>\n",
       "      <td>2023-01-01 03:00:00</td>\n",
       "      <td>0.0</td>\n",
       "      <td>0.0</td>\n",
       "    </tr>\n",
       "    <tr>\n",
       "      <th>4</th>\n",
       "      <td>2023-01-01 04:00:00</td>\n",
       "      <td>0.0</td>\n",
       "      <td>0.0</td>\n",
       "    </tr>\n",
       "    <tr>\n",
       "      <th>...</th>\n",
       "      <td>...</td>\n",
       "      <td>...</td>\n",
       "      <td>...</td>\n",
       "    </tr>\n",
       "    <tr>\n",
       "      <th>8755</th>\n",
       "      <td>2023-12-31 19:00:00</td>\n",
       "      <td>0.0</td>\n",
       "      <td>0.0</td>\n",
       "    </tr>\n",
       "    <tr>\n",
       "      <th>8756</th>\n",
       "      <td>2023-12-31 20:00:00</td>\n",
       "      <td>0.0</td>\n",
       "      <td>0.0</td>\n",
       "    </tr>\n",
       "    <tr>\n",
       "      <th>8757</th>\n",
       "      <td>2023-12-31 21:00:00</td>\n",
       "      <td>0.0</td>\n",
       "      <td>0.0</td>\n",
       "    </tr>\n",
       "    <tr>\n",
       "      <th>8758</th>\n",
       "      <td>2023-12-31 22:00:00</td>\n",
       "      <td>0.0</td>\n",
       "      <td>0.0</td>\n",
       "    </tr>\n",
       "    <tr>\n",
       "      <th>8759</th>\n",
       "      <td>2023-12-31 23:00:00</td>\n",
       "      <td>0.0</td>\n",
       "      <td>0.0</td>\n",
       "    </tr>\n",
       "  </tbody>\n",
       "</table>\n",
       "<p>8760 rows × 3 columns</p>\n",
       "</div>"
      ],
      "text/plain": [
       "                    Time id 0 id 1\n",
       "0    2023-01-01 00:00:00  0.0  0.0\n",
       "1    2023-01-01 01:00:00  0.0  0.0\n",
       "2    2023-01-01 02:00:00  0.0  0.0\n",
       "3    2023-01-01 03:00:00  0.0  0.0\n",
       "4    2023-01-01 04:00:00  0.0  0.0\n",
       "...                  ...  ...  ...\n",
       "8755 2023-12-31 19:00:00  0.0  0.0\n",
       "8756 2023-12-31 20:00:00  0.0  0.0\n",
       "8757 2023-12-31 21:00:00  0.0  0.0\n",
       "8758 2023-12-31 22:00:00  0.0  0.0\n",
       "8759 2023-12-31 23:00:00  0.0  0.0\n",
       "\n",
       "[8760 rows x 3 columns]"
      ]
     },
     "execution_count": 15,
     "metadata": {},
     "output_type": "execute_result"
    }
   ],
   "source": [
    "df = pd.DataFrame({\n",
    "    'Time': all_basins_tp[:, 0],\n",
    "    \"id 0\": all_basins_tp[:, 1],\n",
    "    \"id 1\": all_basins_tp[:, 2]\n",
    "})\n",
    "df"
   ]
  },
  {
   "cell_type": "code",
   "execution_count": null,
   "metadata": {},
   "outputs": [],
   "source": []
  }
 ],
 "metadata": {
  "kernelspec": {
   "display_name": "base",
   "language": "python",
   "name": "python3"
  },
  "language_info": {
   "codemirror_mode": {
    "name": "ipython",
    "version": 3
   },
   "file_extension": ".py",
   "mimetype": "text/x-python",
   "name": "python",
   "nbconvert_exporter": "python",
   "pygments_lexer": "ipython3",
   "version": "3.9.0"
  }
 },
 "nbformat": 4,
 "nbformat_minor": 2
}
